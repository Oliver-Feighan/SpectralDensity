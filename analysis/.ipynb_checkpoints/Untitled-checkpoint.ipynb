{
 "cells": [
  {
   "cell_type": "code",
   "execution_count": 1,
   "id": "0ee11749-ae34-4c41-9c5f-f1f4fe863622",
   "metadata": {},
   "outputs": [
    {
     "name": "stderr",
     "output_type": "stream",
     "text": [
      "Warning: importing 'simtk.openmm' is deprecated.  Import 'openmm' instead.\n"
     ]
    },
    {
     "data": {
      "application/vnd.jupyter.widget-view+json": {
       "model_id": "4824136778d34641abdb7bc0de6d201b",
       "version_major": 2,
       "version_minor": 0
      },
      "text/plain": []
     },
     "metadata": {},
     "output_type": "display_data"
    }
   ],
   "source": [
    "import analysis\n",
    "\n",
    "import numpy as np\n",
    "import mdtraj\n",
    "\n",
    "import nglview as nv"
   ]
  },
  {
   "cell_type": "code",
   "execution_count": 2,
   "id": "a93c0964-40ba-4c6c-9c57-073902e68549",
   "metadata": {},
   "outputs": [
    {
     "name": "stdout",
     "output_type": "stream",
     "text": [
      "Finished 'load_dcd_file' in 12.157708 secs\n"
     ]
    }
   ],
   "source": [
    "traj = analysis.load_dcd_file(\"../LHII_MD/output/1ps_2fs_LHII.dcd\", \"../LHII_MD/LH2.prmtop\")\n",
    "top = traj.top"
   ]
  },
  {
   "cell_type": "code",
   "execution_count": 3,
   "id": "0b2a7bc0-384d-4c4b-9d64-0e7bba43a074",
   "metadata": {},
   "outputs": [],
   "source": []
  },
  {
   "cell_type": "code",
   "execution_count": 5,
   "id": "8078d06d-fb6a-4d49-9835-bcb7beaf9cc2",
   "metadata": {},
   "outputs": [
    {
     "data": {
      "application/vnd.jupyter.widget-view+json": {
       "model_id": "8e5b5bbf4a414bf6a9b4747773f09ece",
       "version_major": 2,
       "version_minor": 0
      },
      "text/plain": [
       "NGLWidget(max_frame=499)"
      ]
     },
     "metadata": {},
     "output_type": "display_data"
    }
   ],
   "source": [
    "view = nv.show_mdtraj(traj)\n",
    "view.clear()\n",
    "view.add_representation('licorice', selection=bcl_atoms)\n",
    "view"
   ]
  },
  {
   "cell_type": "code",
   "execution_count": 6,
   "id": "5226eeb6-0658-4428-881e-627a9668fa03",
   "metadata": {},
   "outputs": [],
   "source": [
    "bcl_atoms_list = bcl_atoms.tolist()\n",
    "atoms = list(top.atoms)\n",
    "\n",
    "symbols = [atoms[i].element.symbol for i in bcl_atoms_list]"
   ]
  },
  {
   "cell_type": "code",
   "execution_count": 33,
   "id": "5536f8ac-d673-44ca-b5f8-a7e22005d4f3",
   "metadata": {},
   "outputs": [
    {
     "ename": "KeyError",
     "evalue": "'QCORE_PATH'",
     "output_type": "error",
     "traceback": [
      "\u001b[0;31m---------------------------------------------------------------------------\u001b[0m",
      "\u001b[0;31mKeyError\u001b[0m                                  Traceback (most recent call last)",
      "\u001b[0;32m<ipython-input-33-30e406ab6d26>\u001b[0m in \u001b[0;36m<module>\u001b[0;34m\u001b[0m\n\u001b[1;32m     42\u001b[0m \u001b[0mqcore_str\u001b[0m \u001b[0;34m=\u001b[0m \u001b[0;34mf\"xtb(structure(xyz = {bcls[0]}) model='chlorophyll')\"\u001b[0m\u001b[0;34m\u001b[0m\u001b[0;34m\u001b[0m\u001b[0m\n\u001b[1;32m     43\u001b[0m \u001b[0;34m\u001b[0m\u001b[0m\n\u001b[0;32m---> 44\u001b[0;31m \u001b[0mrun_qcore\u001b[0m\u001b[0;34m(\u001b[0m\u001b[0mqcore_str\u001b[0m\u001b[0;34m)\u001b[0m\u001b[0;34m\u001b[0m\u001b[0;34m\u001b[0m\u001b[0m\n\u001b[0m",
      "\u001b[0;32m<ipython-input-33-30e406ab6d26>\u001b[0m in \u001b[0;36mrun_qcore\u001b[0;34m(qcore_str)\u001b[0m\n\u001b[1;32m      4\u001b[0m \u001b[0;34m\u001b[0m\u001b[0m\n\u001b[1;32m      5\u001b[0m \u001b[0;32mdef\u001b[0m \u001b[0mrun_qcore\u001b[0m\u001b[0;34m(\u001b[0m\u001b[0mqcore_str\u001b[0m\u001b[0;34m)\u001b[0m\u001b[0;34m:\u001b[0m\u001b[0;34m\u001b[0m\u001b[0;34m\u001b[0m\u001b[0m\n\u001b[0;32m----> 6\u001b[0;31m     \u001b[0mqcore_path\u001b[0m \u001b[0;34m=\u001b[0m \u001b[0mos\u001b[0m\u001b[0;34m.\u001b[0m\u001b[0menviron\u001b[0m\u001b[0;34m[\u001b[0m\u001b[0;34m\"QCORE_PATH\"\u001b[0m\u001b[0;34m]\u001b[0m\u001b[0;34m\u001b[0m\u001b[0;34m\u001b[0m\u001b[0m\n\u001b[0m\u001b[1;32m      7\u001b[0m     \u001b[0mjson_str\u001b[0m \u001b[0;34m=\u001b[0m \u001b[0;34m\" -n 1 -f json --schema none -s \"\u001b[0m\u001b[0;34m\u001b[0m\u001b[0;34m\u001b[0m\u001b[0m\n\u001b[1;32m      8\u001b[0m \u001b[0;34m\u001b[0m\u001b[0m\n",
      "\u001b[0;32m~/opt/anaconda3/lib/python3.7/os.py\u001b[0m in \u001b[0;36m__getitem__\u001b[0;34m(self, key)\u001b[0m\n\u001b[1;32m    679\u001b[0m         \u001b[0;32mexcept\u001b[0m \u001b[0mKeyError\u001b[0m\u001b[0;34m:\u001b[0m\u001b[0;34m\u001b[0m\u001b[0;34m\u001b[0m\u001b[0m\n\u001b[1;32m    680\u001b[0m             \u001b[0;31m# raise KeyError with the original key value\u001b[0m\u001b[0;34m\u001b[0m\u001b[0;34m\u001b[0m\u001b[0;34m\u001b[0m\u001b[0m\n\u001b[0;32m--> 681\u001b[0;31m             \u001b[0;32mraise\u001b[0m \u001b[0mKeyError\u001b[0m\u001b[0;34m(\u001b[0m\u001b[0mkey\u001b[0m\u001b[0;34m)\u001b[0m \u001b[0;32mfrom\u001b[0m \u001b[0;32mNone\u001b[0m\u001b[0;34m\u001b[0m\u001b[0;34m\u001b[0m\u001b[0m\n\u001b[0m\u001b[1;32m    682\u001b[0m         \u001b[0;32mreturn\u001b[0m \u001b[0mself\u001b[0m\u001b[0;34m.\u001b[0m\u001b[0mdecodevalue\u001b[0m\u001b[0;34m(\u001b[0m\u001b[0mvalue\u001b[0m\u001b[0;34m)\u001b[0m\u001b[0;34m\u001b[0m\u001b[0;34m\u001b[0m\u001b[0m\n\u001b[1;32m    683\u001b[0m \u001b[0;34m\u001b[0m\u001b[0m\n",
      "\u001b[0;31mKeyError\u001b[0m: 'QCORE_PATH'"
     ]
    }
   ],
   "source": [
    "import subprocess\n",
    "import json\n",
    "import os\n",
    "\n",
    "def run_qcore(qcore_str):\n",
    "    qcore_path = os.environ[\"QCORE_PATH\"]\n",
    "    json_str = \" -n 1 -f json --schema none -s \"\n",
    "    \n",
    "    json_run = subprocess.run(qcore_path + json_str + qcore_str,\n",
    "                              shell=True,\n",
    "                              stdout=subprocess.PIPE,\n",
    "                              executable=\"/bin/bash\",\n",
    "                              universal_newlines=True)\n",
    "\n",
    "    json_results = json.loads(json_run.stdout)\n",
    "\n",
    "    return json_results\n",
    "\n",
    "def read_bcl(traj, top, frame):\n",
    "    bcl_atoms = top.select(\"resname =~ 'BCL'\")\n",
    "    bcl_xyz = traj.xyz[frame][bcl_atoms]\n",
    "\n",
    "    n_atoms = len(bcl_xyz)\n",
    "    \n",
    "    res_strs = [\"[\\n\" for i in range(len(top.select(\"name =~ 'Mg*'\")))]\n",
    "    \n",
    "    for i, coord in enumerate(bcl_xyz):\n",
    "        bcl = i // 140\n",
    "        \n",
    "        if (i+1) % 140 != 0:\n",
    "            res_strs[bcl] += f\"[{symbols[i]} {coord[0]:3.6f} {coord[1]:3.6f} {coord[2]:3.6f}],\\n\"\n",
    "        else:\n",
    "            res_strs[bcl] += f\"[{symbols[i]} {coord[0]:3.6f} {coord[1]:3.6f} {coord[2]:3.6f}]\\n\"\n",
    " \n",
    "    for i in range(len(res_strs)):\n",
    "        res_strs[i] += \"]\\n\"\n",
    "\n",
    "    return res_strs\n",
    "\n",
    "bcls = read_bcl(traj, top, 0)\n",
    "\n",
    "qcore_str = f\"xtb(structure(xyz = {bcls[0]}) model='chlorophyll')\"\n",
    "\n",
    "run_qcore(qcore_str)"
   ]
  },
  {
   "cell_type": "code",
   "execution_count": null,
   "id": "f96bc554-9ebb-41e3-9216-a5c45f97d23a",
   "metadata": {},
   "outputs": [],
   "source": []
  }
 ],
 "metadata": {
  "kernelspec": {
   "display_name": "Python 3",
   "language": "python",
   "name": "python3"
  },
  "language_info": {
   "codemirror_mode": {
    "name": "ipython",
    "version": 3
   },
   "file_extension": ".py",
   "mimetype": "text/x-python",
   "name": "python",
   "nbconvert_exporter": "python",
   "pygments_lexer": "ipython3",
   "version": "3.7.12"
  }
 },
 "nbformat": 4,
 "nbformat_minor": 5
}
