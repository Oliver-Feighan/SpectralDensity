{
 "cells": [
  {
   "cell_type": "markdown",
   "id": "a36babb6-53c5-4b34-9a9e-03cdff299fd9",
   "metadata": {},
   "source": [
    "# Ring Separation"
   ]
  },
  {
   "cell_type": "code",
   "execution_count": 9,
   "id": "8b4be576-4713-48ae-af31-47cea028e89c",
   "metadata": {},
   "outputs": [
    {
     "data": {
      "application/vnd.jupyter.widget-view+json": {
       "model_id": "1aa73d807e114d5ab48c283985b87fe0",
       "version_major": 2,
       "version_minor": 0
      },
      "text/plain": []
     },
     "metadata": {},
     "output_type": "display_data"
    }
   ],
   "source": [
    "import numpy as np\n",
    "import mdtraj\n",
    "\n",
    "import nglview as nv\n",
    "\n",
    "import analysis"
   ]
  },
  {
   "cell_type": "code",
   "execution_count": 10,
   "id": "01396e72-0249-4916-9a85-5e54c80238d8",
   "metadata": {},
   "outputs": [
    {
     "name": "stdout",
     "output_type": "stream",
     "text": [
      "Finished 'load_dcd_file' in 16.117658 secs\n"
     ]
    }
   ],
   "source": [
    "traj = analysis.load_dcd_file(\"../LHII_MD/output/1ps_2fs_LHII.dcd\", \"../LHII_MD/LH2.prmtop\")\n",
    "top = traj.top"
   ]
  },
  {
   "cell_type": "code",
   "execution_count": 13,
   "id": "6310cda6-3293-4cb4-903f-b4f49d17e411",
   "metadata": {},
   "outputs": [
    {
     "data": {
      "text/plain": [
       "array([13239, 13379, 13639, 13899, 14039, 14299, 14439, 14579, 14719,\n",
       "       14859, 14999, 15259, 15519, 15659, 15919, 16059, 16199, 16339,\n",
       "       16479, 16619, 16879, 17139, 17279, 17539, 17679, 17819, 17959])"
      ]
     },
     "execution_count": 13,
     "metadata": {},
     "output_type": "execute_result"
    }
   ],
   "source": [
    "bcl_atoms = top.select(\"name =~ 'Mg*'\")\n",
    "bcl_atoms"
   ]
  },
  {
   "cell_type": "code",
   "execution_count": 17,
   "id": "cb1c8341-750d-4744-b1c4-1727b5fd329a",
   "metadata": {},
   "outputs": [
    {
     "data": {
      "application/vnd.jupyter.widget-view+json": {
       "model_id": "03bec9877ccf426f832dba36dcceffc7",
       "version_major": 2,
       "version_minor": 0
      },
      "text/plain": [
       "NGLWidget(max_frame=499)"
      ]
     },
     "metadata": {},
     "output_type": "display_data"
    }
   ],
   "source": [
    "view = nv.show_mdtraj(traj)\n",
    "view.clear()\n",
    "view.add_representation('licorice', selection=bcl_atoms[:140])\n",
    "view.shape.add_cylinder(traj.xyz[0][13239].tolist(), traj.xyz[0][13379].tolist(), [1, 0, 0], 0.2)\n",
    "view"
   ]
  },
  {
   "cell_type": "code",
   "execution_count": null,
   "id": "a29c6466-08e3-4269-b082-cd8deeeb6e4c",
   "metadata": {},
   "outputs": [],
   "source": []
  }
 ],
 "metadata": {
  "kernelspec": {
   "display_name": "Python 3",
   "language": "python",
   "name": "python3"
  },
  "language_info": {
   "codemirror_mode": {
    "name": "ipython",
    "version": 3
   },
   "file_extension": ".py",
   "mimetype": "text/x-python",
   "name": "python",
   "nbconvert_exporter": "python",
   "pygments_lexer": "ipython3",
   "version": "3.7.12"
  }
 },
 "nbformat": 4,
 "nbformat_minor": 5
}
