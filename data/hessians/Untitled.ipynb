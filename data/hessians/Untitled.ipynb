{
 "cells": [
  {
   "cell_type": "code",
   "execution_count": 52,
   "id": "6f2443b7-6440-4795-8119-4b0b8c7cd1ae",
   "metadata": {},
   "outputs": [],
   "source": [
    "import sys\n",
    "\n",
    "sys.path.append(\"../../src/\")\n",
    "\n",
    "import hessian\n",
    "import system\n",
    "\n",
    "import numpy as np"
   ]
  },
  {
   "cell_type": "code",
   "execution_count": 53,
   "id": "88cf1844-bc06-47b1-8824-81133022608f",
   "metadata": {},
   "outputs": [],
   "source": [
    "oriented, _ = system.get_bchla_in_xy_plane(\"opt_bchla.xyz\")\n",
    "\n",
    "sym, geom = system.read_xyz(\"opt_bchla.xyz\")"
   ]
  },
  {
   "cell_type": "code",
   "execution_count": 54,
   "id": "2a19f02c-148e-4ea8-a53f-e683863e7131",
   "metadata": {},
   "outputs": [],
   "source": [
    "not_phytol = [i for i in range(140) if i not in system.phytol_indices()]\n",
    "\n",
    "trunc_xyz = oriented[not_phytol]\n",
    "trunc_sym = [sym[i] for i in range(len(sym)) if i not in system.phytol_indices()]\n"
   ]
  },
  {
   "cell_type": "code",
   "execution_count": 55,
   "id": "f03ccc00-9381-40db-ad53-98551d46e867",
   "metadata": {},
   "outputs": [],
   "source": [
    "link_vec = oriented[13] - oriented[12]\n",
    "link_vec = 1.10 * link_vec / np.linalg.norm(link_vec) # 1.1, C-H bond length"
   ]
  },
  {
   "cell_type": "code",
   "execution_count": 56,
   "id": "3ab95d94-f6e1-43d5-82d4-9cafe3de1446",
   "metadata": {},
   "outputs": [
    {
     "name": "stdout",
     "output_type": "stream",
     "text": [
      "79\n",
      "79\n"
     ]
    }
   ],
   "source": [
    "trunc_xyz = np.concatenate((trunc_xyz, [oriented[12] + link_vec]))\n",
    "trunc_sym = np.concatenate((trunc_sym, [\"H\"]))\n",
    "\n",
    "print(len(trunc_xyz))\n",
    "print(len(trunc_sym))\n",
    "\n",
    "system.write_xyz(\"truncated.xyz\", trunc_xyz, trunc_sym)"
   ]
  },
  {
   "cell_type": "code",
   "execution_count": null,
   "id": "a23c4e48-8b48-44bc-b6a2-7749ae2df205",
   "metadata": {},
   "outputs": [],
   "source": []
  }
 ],
 "metadata": {
  "kernelspec": {
   "display_name": "Python 3",
   "language": "python",
   "name": "python3"
  },
  "language_info": {
   "codemirror_mode": {
    "name": "ipython",
    "version": 3
   },
   "file_extension": ".py",
   "mimetype": "text/x-python",
   "name": "python",
   "nbconvert_exporter": "python",
   "pygments_lexer": "ipython3",
   "version": "3.7.12"
  }
 },
 "nbformat": 4,
 "nbformat_minor": 5
}
