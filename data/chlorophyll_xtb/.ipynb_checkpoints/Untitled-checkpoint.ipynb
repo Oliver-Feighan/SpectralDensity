{
 "cells": [
  {
   "cell_type": "code",
   "execution_count": 6,
   "id": "a285350a-2ae6-4cf5-8acf-25d0b7186dce",
   "metadata": {},
   "outputs": [],
   "source": [
    "import numpy as np\n",
    "import xml.etree.ElementTree as ET"
   ]
  },
  {
   "cell_type": "code",
   "execution_count": 7,
   "id": "5c779856-9e50-4655-bb7f-3078e4cc2016",
   "metadata": {},
   "outputs": [],
   "source": [
    "tree = ET.parse(\"../LHII_MD/LH2.xml\")\n",
    "root = tree.getroot()"
   ]
  },
  {
   "cell_type": "code",
   "execution_count": 48,
   "id": "00b99dab-8caf-4976-b624-ffd4092b10e0",
   "metadata": {},
   "outputs": [
    {
     "data": {
      "text/plain": [
       "{'openmmVersion': '7.6', 'type': 'System', 'version': '1'}"
      ]
     },
     "execution_count": 48,
     "metadata": {},
     "output_type": "execute_result"
    }
   ],
   "source": [
    "root.attrib"
   ]
  },
  {
   "cell_type": "code",
   "execution_count": 69,
   "id": "776a84db-52a0-40ae-b2b4-bd7661ed0552",
   "metadata": {},
   "outputs": [
    {
     "name": "stderr",
     "output_type": "stream",
     "text": [
      "/Users/of15641/opt/anaconda3/lib/python3.7/site-packages/ipykernel_launcher.py:1: DeprecationWarning: This method will be removed in future versions.  Use 'list(elem)' or iteration over elem instead.\n",
      "  \"\"\"Entry point for launching an IPython kernel.\n"
     ]
    },
    {
     "data": {
      "text/plain": [
       "[<Element 'PeriodicBoxVectors' at 0x11b8aa890>,\n",
       " <Element 'Particles' at 0x11b8aaa10>,\n",
       " <Element 'Constraints' at 0x1977d77d0>,\n",
       " <Element 'Forces' at 0x1a32f16b0>]"
      ]
     },
     "execution_count": 69,
     "metadata": {},
     "output_type": "execute_result"
    }
   ],
   "source": [
    "root.getchildren()\n"
   ]
  },
  {
   "cell_type": "code",
   "execution_count": 47,
   "id": "9f0c450b-12b1-4326-b9d8-ee98852c7b27",
   "metadata": {},
   "outputs": [],
   "source": [
    "forces = root.findall(\"Forces\")[0]"
   ]
  },
  {
   "cell_type": "code",
   "execution_count": 73,
   "id": "2b80b589-752c-45bb-a2e7-cbdb403e8d34",
   "metadata": {},
   "outputs": [
    {
     "name": "stdout",
     "output_type": "stream",
     "text": [
      "{'forceGroup': '0', 'name': 'HarmonicBondForce', 'type': 'HarmonicBondForce', 'usesPeriodic': '0', 'version': '2'}\n",
      "{'forceGroup': '0', 'name': 'HarmonicAngleForce', 'type': 'HarmonicAngleForce', 'usesPeriodic': '0', 'version': '2'}\n",
      "{'forceGroup': '0', 'name': 'PeriodicTorsionForce', 'type': 'PeriodicTorsionForce', 'usesPeriodic': '0', 'version': '2'}\n",
      "{'alpha': '0', 'cutoff': '1', 'dispersionCorrection': '1', 'ewaldTolerance': '.0005', 'exceptionsUsePeriodic': '0', 'forceGroup': '0', 'includeDirectSpace': '1', 'ljAlpha': '0', 'ljnx': '0', 'ljny': '0', 'ljnz': '0', 'method': '4', 'name': 'NonbondedForce', 'nx': '0', 'ny': '0', 'nz': '0', 'recipForceGroup': '-1', 'rfDielectric': '78.3', 'switchingDistance': '-1', 'type': 'NonbondedForce', 'useSwitchingFunction': '0', 'version': '4'}\n",
      "{'forceGroup': '0', 'frequency': '1', 'name': 'CMMotionRemover', 'type': 'CMMotionRemover', 'version': '1'}\n"
     ]
    },
    {
     "name": "stderr",
     "output_type": "stream",
     "text": [
      "/Users/of15641/opt/anaconda3/lib/python3.7/site-packages/ipykernel_launcher.py:1: DeprecationWarning: This method will be removed in future versions.  Use 'list(elem)' or iteration over elem instead.\n",
      "  \"\"\"Entry point for launching an IPython kernel.\n"
     ]
    }
   ],
   "source": [
    "for force in forces.getchildren():\n",
    "    print(force.attrib)"
   ]
  },
  {
   "cell_type": "code",
   "execution_count": 58,
   "id": "86b42d2e-f4b7-4b9d-a268-96ac466943bf",
   "metadata": {},
   "outputs": [],
   "source": [
    "non_bonded = forces[3]\n",
    "\n",
    "particles = non_bonded.findall(\"Particles\")[0] \n",
    "\n",
    "charges = np.zeros(len(particles))\n",
    "\n",
    "for enum, tag in enumerate(particles):\n",
    "    charges[enum] = tag.get(\"q\")\n",
    "    "
   ]
  },
  {
   "cell_type": "code",
   "execution_count": 60,
   "id": "98e09e4e-3141-46c5-82e7-9550fdcedfcc",
   "metadata": {},
   "outputs": [
    {
     "data": {
      "text/plain": [
       "291829"
      ]
     },
     "execution_count": 60,
     "metadata": {},
     "output_type": "execute_result"
    }
   ],
   "source": []
  },
  {
   "cell_type": "code",
   "execution_count": null,
   "id": "8f47d391-1b45-4be0-a124-ca41590b876e",
   "metadata": {},
   "outputs": [],
   "source": []
  }
 ],
 "metadata": {
  "kernelspec": {
   "display_name": "Python 3",
   "language": "python",
   "name": "python3"
  },
  "language_info": {
   "codemirror_mode": {
    "name": "ipython",
    "version": 3
   },
   "file_extension": ".py",
   "mimetype": "text/x-python",
   "name": "python",
   "nbconvert_exporter": "python",
   "pygments_lexer": "ipython3",
   "version": "3.7.12"
  }
 },
 "nbformat": 4,
 "nbformat_minor": 5
}
