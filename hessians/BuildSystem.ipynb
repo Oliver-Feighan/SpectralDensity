{
 "cells": [
  {
   "cell_type": "markdown",
   "id": "1a76de56-c862-4d8e-b4d3-9e533ee49d43",
   "metadata": {},
   "source": [
    "# Orient Bchla and make dimer"
   ]
  },
  {
   "cell_type": "code",
   "execution_count": null,
   "id": "cb7a8f6a-9d15-4657-9587-3075a70aac0c",
   "metadata": {},
   "outputs": [],
   "source": []
  }
 ],
 "metadata": {
  "kernelspec": {
   "display_name": "Python 3",
   "language": "python",
   "name": "python3"
  },
  "language_info": {
   "codemirror_mode": {
    "name": "ipython",
    "version": 3
   },
   "file_extension": ".py",
   "mimetype": "text/x-python",
   "name": "python",
   "nbconvert_exporter": "python",
   "pygments_lexer": "ipython3",
   "version": "3.7.12"
  }
 },
 "nbformat": 4,
 "nbformat_minor": 5
}
