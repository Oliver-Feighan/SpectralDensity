{
 "cells": [
  {
   "cell_type": "markdown",
   "id": "b1690ea1-ba41-4f5c-a265-4e5191c9117f",
   "metadata": {},
   "source": [
    "# Potential Energy Surfaces"
   ]
  },
  {
   "cell_type": "code",
   "execution_count": 90,
   "id": "46eb67a5-8812-42b0-8ad3-1342160da8ac",
   "metadata": {},
   "outputs": [],
   "source": [
    "import os\n",
    "\n",
    "import matplotlib.pyplot as plt\n",
    "import numpy as np\n",
    "import scipy\n",
    "import json\n",
    "import pandas as pd\n",
    "\n",
    "import sys\n",
    "sys.path.append(\"../src/\")\n",
    "\n",
    "import hessian\n",
    "import system\n",
    "import chl_xtb"
   ]
  },
  {
   "cell_type": "markdown",
   "id": "041b45ef-2c75-4952-8e43-290834a214b8",
   "metadata": {},
   "source": [
    "$ q_{i} = \\sqrt{\\frac{m \\omega_{i}}{\\hbar}} \\hat{x} $\n",
    "\n",
    "$ [q_{i}] = \\sqrt{\\frac{kg 2 \\pi s^{-1}}{\\frac{J s}{2 \\pi }}} m $\n",
    "\n",
    "$ [q_{i}] = \\sqrt{\\frac{kg 2 \\pi s^{-1}}{\\frac{kg m^2 s^{-2} s}{2 \\pi }}} m $\n",
    "\n",
    "$ [q_{i}] = \\sqrt{\\frac{2 \\pi}{\\frac{m^2}{2 \\pi }}} m $\n",
    "\n",
    "$ [q_{i}] = \\sqrt{\\frac{4 \\pi^2}{m^2}}m $\n",
    "\n",
    "$ [q_{i}] = \\frac{2 \\pi}{m}m $\n",
    "\n",
    "$ [q_{i}] = 2 \\pi $"
   ]
  },
  {
   "cell_type": "code",
   "execution_count": 105,
   "id": "3b89e985-063f-4d1d-a5ac-1edc1195efb4",
   "metadata": {},
   "outputs": [],
   "source": [
    "with open(\"../data/hessians/huang_rhys.json\") as hr_json:\n",
    "    res = json.load(hr_json)"
   ]
  },
  {
   "cell_type": "code",
   "execution_count": 106,
   "id": "39559a3d-3f30-4d64-bde0-67878c281e25",
   "metadata": {},
   "outputs": [],
   "source": [
    "res_pd = pd.DataFrame(res).T"
   ]
  },
  {
   "cell_type": "code",
   "execution_count": 107,
   "id": "719a73ab-cf68-4c71-b4c6-4a38cd43ad69",
   "metadata": {},
   "outputs": [
    {
     "name": "stdout",
     "output_type": "stream",
     "text": [
      "dict_keys(['displacements', 'ground_energies', 'transition_energies', 'excited_energies', 'q_coords', 'g_min', 'e_min', 'hrf', 'wavenumber', 'frequency'])\n"
     ]
    },
    {
     "data": {
      "image/png": "[encoded data removed]",
      "text/plain": [
       "<Figure size 432x288 with 1 Axes>"
      ]
     },
     "metadata": {
      "needs_background": "light"
     },
     "output_type": "display_data"
    }
   ],
   "source": [
    "fig, ax = plt.subplots()\n",
    "\n",
    "print(res[\"mode_3\"].keys())\n",
    "\n",
    "for mode in res.keys():\n",
    "    ax.plot(res[mode][\"q_coords\"], res[mode][\"ground_energies\"], color='black')\n",
    "    ax.plot(res[mode][\"q_coords\"], res[mode][\"excited_energies\"], color='red')"
   ]
  },
  {
   "cell_type": "code",
   "execution_count": 113,
   "id": "fad0d91c-9d0c-4b0a-955c-2bfb195bbc74",
   "metadata": {},
   "outputs": [
    {
     "name": "stdout",
     "output_type": "stream",
     "text": [
      "mode_26 : True, mode_46 : False, mode_32 : True, mode_131 : True, mode_8 : True, mode_24 : True, mode_22 : True, mode_149 : True, mode_188 : True, mode_136 : True, mode_17 : True, mode_43 : False, mode_80 : False, mode_16 : True, mode_76 : True, mode_30 : False, mode_29 : True, mode_129 : True, mode_79 : True, mode_82 : True, mode_155 : True, mode_58 : True, mode_51 : False, mode_93 : True, mode_10 : True, mode_28 : True, mode_2 : True, mode_36 : False, mode_4 : False, mode_5 : True, mode_154 : True, mode_134 : True, mode_49 : False, mode_139 : True, mode_12 : False, mode_137 : True, mode_33 : True, mode_144 : True, mode_23 : True, mode_150 : True, mode_81 : True, mode_125 : True, mode_56 : True, mode_7 : True, mode_52 : True, mode_143 : True, mode_9 : True, mode_11 : True, mode_50 : True, mode_38 : False, mode_39 : False, mode_41 : True, mode_84 : True, mode_100 : True, mode_145 : True, mode_141 : True, mode_1 : True, mode_42 : True, mode_70 : True, mode_123 : True, mode_62 : True, mode_111 : True, mode_6 : False, mode_113 : True, mode_146 : True, mode_69 : True, mode_59 : True, mode_47 : True, mode_112 : True, mode_108 : True, mode_21 : True, mode_14 : True, mode_89 : True, mode_34 : True, mode_140 : True, mode_83 : True, mode_0 : True, mode_142 : True, mode_91 : False, mode_189 : True, mode_68 : True, mode_74 : True, mode_54 : True, mode_48 : False, mode_194 : True, mode_40 : True, mode_95 : True, mode_37 : True, mode_114 : True, mode_185 : True, mode_27 : True, mode_98 : True, mode_187 : True, mode_18 : True, mode_66 : True, mode_102 : True, mode_72 : True, mode_101 : True, mode_120 : True, mode_127 : True, mode_96 : True, mode_31 : False, mode_67 : True, mode_94 : True, mode_20 : True, mode_138 : True, mode_130 : True, mode_191 : True, mode_71 : True, mode_109 : True, mode_193 : True, mode_190 : True, mode_147 : True, mode_192 : True, mode_172 : True, mode_63 : True, mode_180 : True, mode_168 : True, mode_103 : True, mode_92 : True, mode_148 : True, mode_153 : True, mode_110 : True, mode_175 : True, mode_117 : True, mode_126 : True, mode_25 : True, mode_55 : True, mode_162 : True, mode_97 : True, mode_152 : True, mode_167 : True, mode_171 : True, mode_164 : True, mode_53 : True, mode_60 : True, mode_86 : True, mode_64 : True, mode_135 : True, mode_19 : True, mode_122 : True, mode_186 : True, mode_45 : True, mode_3 : True, mode_57 : True, mode_104 : True, mode_121 : True, mode_158 : True, mode_78 : True, mode_65 : True, mode_202 : True, mode_151 : True, mode_15 : True, mode_73 : True, mode_35 : True, mode_118 : True, mode_124 : True, mode_156 : True, mode_169 : True, mode_178 : True, mode_173 : True, mode_116 : True, mode_128 : True, mode_87 : True, mode_160 : True, mode_61 : True, mode_13 : True, mode_107 : True, mode_205 : True, mode_106 : True, mode_157 : True, mode_105 : True, mode_184 : True, mode_165 : True, mode_179 : True, mode_206 : True, mode_200 : True, mode_90 : True, mode_115 : True, mode_177 : True, mode_77 : True, mode_176 : True, mode_99 : True, mode_181 : True, mode_159 : True, mode_213 : True, mode_201 : True, mode_132 : True, mode_163 : True, mode_44 : True, mode_198 : True, mode_208 : True, mode_210 : True, mode_174 : True, mode_223 : True, mode_204 : True, mode_224 : True, mode_209 : True, mode_195 : True, mode_227 : True, mode_166 : True, mode_75 : True, mode_182 : True, mode_226 : True, mode_219 : True, mode_197 : True, mode_203 : True, mode_133 : True, mode_183 : True, mode_212 : True, mode_207 : True, mode_196 : True, mode_222 : True, mode_170 : True, mode_229 : True, mode_228 : True, mode_230 : True, mode_88 : True, mode_225 : True, mode_199 : True, mode_218 : True, mode_221 : True, mode_119 : True, mode_211 : True, mode_215 : True, mode_85 : True, mode_161 : True, mode_216 : True, mode_220 : True, mode_214 : True, mode_217 : True, "
     ]
    }
   ],
   "source": [
    "#pd.set_option('display.max_rows', 10)\n",
    "res_pd = res_pd.sort_values(\"hrf\", ascending=False)\n",
    "\n",
    "for index, row in res_pd.iterrows():\n",
    "    print(f\"{index} : {np.min(row['q_coords']) <  row['g_min'] < np.max(row['q_coords'])}\", end=\", \")"
   ]
  },
  {
   "cell_type": "code",
   "execution_count": null,
   "id": "c6ce0e2f-9d1f-4e1e-a63f-2cb45ea06d35",
   "metadata": {},
   "outputs": [],
   "source": []
  }
 ],
 "metadata": {
  "kernelspec": {
   "display_name": "Python 3",
   "language": "python",
   "name": "python3"
  },
  "language_info": {
   "codemirror_mode": {
    "name": "ipython",
    "version": 3
   },
   "file_extension": ".py",
   "mimetype": "text/x-python",
   "name": "python",
   "nbconvert_exporter": "python",
   "pygments_lexer": "ipython3",
   "version": "3.7.12"
  }
 },
 "nbformat": 4,
 "nbformat_minor": 5
}
