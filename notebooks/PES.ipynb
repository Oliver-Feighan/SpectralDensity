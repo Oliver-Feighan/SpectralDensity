{
 "cells": [
  {
   "cell_type": "markdown",
   "id": "b1690ea1-ba41-4f5c-a265-4e5191c9117f",
   "metadata": {},
   "source": [
    "# Potential Energy Surfaces"
   ]
  },
  {
   "cell_type": "code",
   "execution_count": 1,
   "id": "46eb67a5-8812-42b0-8ad3-1342160da8ac",
   "metadata": {},
   "outputs": [
    {
     "name": "stderr",
     "output_type": "stream",
     "text": [
      "Warning: importing 'simtk.openmm' is deprecated.  Import 'openmm' instead.\n"
     ]
    }
   ],
   "source": [
    "import os\n",
    "\n",
    "import matplotlib.pyplot as plt\n",
    "import numpy as np\n",
    "\n",
    "import sys\n",
    "sys.path.append(\"../src/\")\n",
    "\n",
    "import hessian\n",
    "import system\n",
    "import chl_xtb\n"
   ]
  },
  {
   "cell_type": "code",
   "execution_count": 2,
   "id": "80da9167-0538-428b-bde4-cf444942a228",
   "metadata": {},
   "outputs": [],
   "source": [
    "os.environ[\"QCORE_PATH\"] = \"~/qcore/cmake-build-release/bin/qcore\""
   ]
  },
  {
   "cell_type": "code",
   "execution_count": 3,
   "id": "62eaffd9-09bc-4d27-9fab-53caa9b13dee",
   "metadata": {},
   "outputs": [],
   "source": [
    "modes = hessian.get_modes(\"../data/hessians/monomer_normal_modes.molden\", 414, 140)\n",
    "\n",
    "modes = modes.transpose(2, 0, 1)"
   ]
  },
  {
   "cell_type": "code",
   "execution_count": 4,
   "id": "226a59b2-7c83-43d9-949c-6991763b44f7",
   "metadata": {},
   "outputs": [],
   "source": [
    "symbols, xyz = system.read_xyz(\"../data/hessians/opt_bchla.xyz\")"
   ]
  },
  {
   "cell_type": "code",
   "execution_count": 37,
   "id": "e805dfe0-2291-4b61-9b76-ff1ada531e08",
   "metadata": {},
   "outputs": [],
   "source": [
    "def propagate_along_mode(origin, mode, disp):\n",
    "    mode *= 0.529177 # bohr to angstrom\n",
    "\n",
    "    norm = np.sum(np.linalg.norm(mode, axis=1))\n",
    "    \n",
    "    res = origin + disp * mode/norm\n",
    "    \n",
    "    diff = np.sum(np.linalg.norm(origin - res, axis=1))\n",
    "    \n",
    "    assert(abs(diff - abs(disp)) < 1e-6)\n",
    "    \n",
    "    return res\n",
    "\n",
    "\n",
    "propagate_along_mode(xyz, modes[5], 1)\n",
    "\n",
    "def write_xyz(symbols, xyz):\n",
    "    coord_list = ([f\"['{s}', {c[0]}, {c[1]}, {c[2]}]\" for s, c in zip(symbols, xyz)])\n",
    "    \n",
    "    return f\"[{', '.join(coord_list)}]\"\n"
   ]
  },
  {
   "cell_type": "code",
   "execution_count": 82,
   "id": "f99d6d58-88b2-4195-8c3f-4890ef28b959",
   "metadata": {},
   "outputs": [
    {
     "name": "stdout",
     "output_type": "stream",
     "text": [
      "336, "
     ]
    }
   ],
   "source": [
    "def run_displacement(mode, symbols, origin, disp):\n",
    "    moved = propagate_along_mode(origin, mode, disp)\n",
    "    qcore_str = f\"\\\"res := xtb(model='chlorophyll' structure(xyz = {write_xyz(symbols, moved)}))\\\"\"\n",
    "\n",
    "    res = chl_xtb.run_qcore(qcore_str)\n",
    "    \n",
    "    ground_energy = res[\"res\"][\"energy\"]\n",
    "    transition_energy = res[\"res\"][\"excitation_1_energy\"]\n",
    "    excited_energy = ground_energy + transition_energy\n",
    "    \n",
    "    return ground_energy, transition_energy, excited_energy\n",
    "\n",
    "\n",
    "fig, ax = plt.subplots()\n",
    "ax.spines['left'].set_position('center')\n",
    "\n",
    "ax.spines['right'].set_color('none')\n",
    "ax.spines['top'].set_color('none')\n",
    "\n",
    "disps = np.linspace(-1, 1, 21)\n",
    "\n",
    "for i in [336]:\n",
    "    print(i, end=', ')\n",
    "    energies = [run_displacement(modes[i], symbols, xyz, d) for d in disps]\n",
    "    \n",
    "    ground = [e[0] for e in energies]\n",
    "    excited = [e[2] for e in energies]\n",
    "\n",
    "    g_coeffs = np.polyfit(disps, ground, 2)\n",
    "    e_coeffs = np.polyfit(disps, excited, 2)\n",
    "\n",
    "    g_poly = np.poly1d(g_coeffs)\n",
    "    e_poly = np.poly1d(e_coeffs)\n",
    "\n",
    "    g_pred = g_poly(disps)\n",
    "    e_pred = e_poly(disps)\n",
    "\n",
    "    plt.scatter(disps, ground, color='black', marker='x')\n",
    "    plt.plot(disps, g_pred, color='red')\n",
    "\n",
    "    plt.scatter(disps, excited, color='black', marker='x')\n",
    "    plt.plot(disps, e_pred, color='red')"
   ]
  },
  {
   "cell_type": "code",
   "execution_count": 85,
   "id": "38034c9a-571e-4a26-9535-a510889c5d45",
   "metadata": {},
   "outputs": [
    {
     "data": {
      "text/plain": [
       "[<matplotlib.lines.Line2D at 0x1289adcd0>]"
      ]
     },
     "execution_count": 85,
     "metadata": {},
     "output_type": "execute_result"
    },
    {
     "data": {
      "image/png": "[encoded data removed]",
      "text/plain": [
       "<Figure size 432x288 with 1 Axes>"
      ]
     },
     "metadata": {
      "needs_background": "light"
     },
     "output_type": "display_data"
    }
   ],
   "source": []
  },
  {
   "cell_type": "code",
   "execution_count": 84,
   "id": "13d370fd-6ae0-4c51-8b3d-07d7fe9af6b4",
   "metadata": {},
   "outputs": [
    {
     "name": "stdout",
     "output_type": "stream",
     "text": [
      "[-0.12431124] [-0.11669048]\n"
     ]
    }
   ],
   "source": [
    "g_crit = g_poly.deriv().r\n",
    "e_crit = e_poly.deriv().r\n",
    "\n",
    "print(g_crit, e_crit)"
   ]
  }
 ],
 "metadata": {
  "kernelspec": {
   "display_name": "Python 3",
   "language": "python",
   "name": "python3"
  },
  "language_info": {
   "codemirror_mode": {
    "name": "ipython",
    "version": 3
   },
   "file_extension": ".py",
   "mimetype": "text/x-python",
   "name": "python",
   "nbconvert_exporter": "python",
   "pygments_lexer": "ipython3",
   "version": "3.7.12"
  }
 },
 "nbformat": 4,
 "nbformat_minor": 5
}
