{
 "cells": [
  {
   "cell_type": "markdown",
   "id": "d3a4fe1b-c8f0-4df2-8410-909d2272cfc3",
   "metadata": {},
   "source": [
    "# Spectrum"
   ]
  },
  {
   "cell_type": "code",
   "execution_count": 2,
   "id": "615e333e-1e4a-4ebd-9b15-cf971b848a62",
   "metadata": {},
   "outputs": [],
   "source": [
    "import matplotlib.pyplot as plt\n",
    "import numpy as np\n",
    "\n",
    "import sys\n",
    "sys.path.append(\"../src/\")\n",
    "\n",
    "import partition_energy"
   ]
  },
  {
   "cell_type": "code",
   "execution_count": 6,
   "id": "db29998b-fcda-48c1-9748-f154eeb725a3",
   "metadata": {},
   "outputs": [],
   "source": [
    "states = partition_energy.read_splits(\"states_energies\", (1000, 28), \"1000ps_100fs\")"
   ]
  },
  {
   "cell_type": "code",
   "execution_count": 12,
   "id": "35ab6cff-02d8-4100-90fd-f475b2ce8db1",
   "metadata": {},
   "outputs": [],
   "source": [
    "exciton_excitations = np.array([states[:, i] - states[:, 0] for i in range(1, 28)]).T"
   ]
  },
  {
   "cell_type": "code",
   "execution_count": 50,
   "id": "dae10dad-a687-4800-8aee-0f7e6550cd91",
   "metadata": {},
   "outputs": [
    {
     "data": {
      "text/plain": [
       "<BarContainer object of 200 artists>"
      ]
     },
     "execution_count": 50,
     "metadata": {},
     "output_type": "execute_result"
    },
    {
     "data": {
      "image/png": "[encoded data removed]",
      "text/plain": [
       "<Figure size 432x288 with 1 Axes>"
      ]
     },
     "metadata": {
      "needs_background": "light"
     },
     "output_type": "display_data"
    }
   ],
   "source": [
    "freq, bins = np.histogram(exciton_excitations, bins=200)\n",
    "\n",
    "plt.bar(bins[:-1], freq, width=np.mean(np.diff(bins)))"
   ]
  },
  {
   "cell_type": "code",
   "execution_count": 59,
   "id": "544aa76b-31f1-4297-a978-25eac425c9c7",
   "metadata": {},
   "outputs": [
    {
     "data": {
      "text/plain": [
       "<BarContainer object of 200 artists>"
      ]
     },
     "execution_count": 59,
     "metadata": {},
     "output_type": "execute_result"
    },
    {
     "data": {
      "image/png": "[encoded data removed]",
      "text/plain": [
       "<Figure size 432x288 with 1 Axes>"
      ]
     },
     "metadata": {
      "needs_background": "light"
     },
     "output_type": "display_data"
    }
   ],
   "source": [
    "def hartree_to_nm(x):\n",
    "    c = 299792458 #speed of light, m/s\n",
    "    h = 6.626e-34 #Planck constant\n",
    "    J_per_Eh = 4.35974e-18 # J/Eh\n",
    "    \n",
    "    wavelength = (h*c) / (x * J_per_Eh)\n",
    "    \n",
    "    return 1e9 * wavelength # m to nm conversion\n",
    "\n",
    "def hartree_to_pcm(x):\n",
    "    c = 299792458 #speed of light, m/s\n",
    "    h = 6.626e-34 #Planck constant\n",
    "    J_per_Eh = 4.35974e-18 # J/Eh\n",
    "    \n",
    "    wavenumber = (x * J_per_Eh) / (h*c)\n",
    "    \n",
    "    return 1e-2 * wavenumber # m-1 to cm-1 conversion\n",
    "\n",
    "exciton_excitations_nm = hartree_to_nm(exciton_excitations)\n",
    "\n",
    "freq, bins = np.histogram(exciton_excitations_nm, bins=200)\n",
    "\n",
    "plt.bar(bins[:-1], freq, np.mean(np.diff(bins)))"
   ]
  },
  {
   "cell_type": "code",
   "execution_count": 60,
   "id": "3e0b2914-d45b-40a6-950f-45aa596f78e4",
   "metadata": {},
   "outputs": [
    {
     "data": {
      "text/plain": [
       "<BarContainer object of 200 artists>"
      ]
     },
     "execution_count": 60,
     "metadata": {},
     "output_type": "execute_result"
    },
    {
     "data": {
      "image/png": "[encoded data removed]",
      "text/plain": [
       "<Figure size 432x288 with 1 Axes>"
      ]
     },
     "metadata": {
      "needs_background": "light"
     },
     "output_type": "display_data"
    }
   ],
   "source": [
    "exciton_excitations_pcm = hartree_to_pcm(exciton_excitations)\n",
    "\n",
    "freq, bins = np.histogram(exciton_excitations_pcm, bins=200)\n",
    "\n",
    "plt.bar(bins[:-1], freq, np.mean(np.diff(bins)))"
   ]
  },
  {
   "cell_type": "code",
   "execution_count": null,
   "id": "142e6ad9-0220-430e-a607-30a5ee4e6941",
   "metadata": {},
   "outputs": [],
   "source": []
  }
 ],
 "metadata": {
  "kernelspec": {
   "display_name": "Python 3",
   "language": "python",
   "name": "python3"
  },
  "language_info": {
   "codemirror_mode": {
    "name": "ipython",
    "version": 3
   },
   "file_extension": ".py",
   "mimetype": "text/x-python",
   "name": "python",
   "nbconvert_exporter": "python",
   "pygments_lexer": "ipython3",
   "version": "3.7.12"
  }
 },
 "nbformat": 4,
 "nbformat_minor": 5
}
