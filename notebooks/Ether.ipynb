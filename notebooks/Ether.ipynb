{
 "cells": [
  {
   "cell_type": "markdown",
   "id": "d37061ec-e8e6-43c3-8a90-00ecdea7172a",
   "metadata": {},
   "source": [
    "# Ether"
   ]
  },
  {
   "cell_type": "code",
   "execution_count": null,
   "id": "0f3bb98e-1004-4d7d-b6a1-73ff61f9bf46",
   "metadata": {},
   "outputs": [],
   "source": []
  }
 ],
 "metadata": {
  "kernelspec": {
   "display_name": "Python 3",
   "language": "python",
   "name": "python3"
  },
  "language_info": {
   "codemirror_mode": {
    "name": "ipython",
    "version": 3
   },
   "file_extension": ".py",
   "mimetype": "text/x-python",
   "name": "python",
   "nbconvert_exporter": "python",
   "pygments_lexer": "ipython3",
   "version": "3.7.12"
  }
 },
 "nbformat": 4,
 "nbformat_minor": 5
}
